import unittest

class TestWorkloadDistribution(unittest.TestCase):
    def setUp(self):
        self.df = load_data()
        self.df_encoded = preprocess_data(self.df)
        self.schedule = balance_work_schedule(self.df)

    def test_load_data(self):
        self.assertEqual(len(self.df), 5)  # Check if the correct number of rows is loaded
        self.assertEqual(list(self.df.columns), ['user_id', 'role', 'tasks', 'availability_hours', 'experience_level'])  # Check if the columns are correct

    def test_preprocess_data(self):
        self.assertEqual(len(self.df_encoded), 5)  # Check if the correct number of rows is encoded
        self.assertEqual(list(self.df_encoded.columns), ['user_id', 'availability_hours', 'role_Backend', 'role_Frontend', 'role_Fullstack', 'experience_level_Intermediate', 'experience_level_Junior', 'experience_level_Senior'])  # Check if the columns are correct

    def test_balance_work_schedule(self):
        self.assertEqual(len(self.schedule), 5)  # Check if the correct number of tasks are assigned
        self.assertEqual(list(self.schedule.columns), ['user_id', 'task', 'time_required'])  # Check if the columns are correct

    def test_main(self):
        # Redirect stdout to capture print statements
        import sys
        from io import StringIO
        captured_output = StringIO()
        sys.stdout = captured_output

        main()

        sys.stdout = sys.__stdout__  # Reset stdout

        # Check if the expected output is printed
        expected_output = "Initial Data:\n" + str(self.df.head()) + "\n\nEncoded Data:\n" + str(self.df_encoded.head()) + "\n\nBalanced Work Schedule:\n" + str(self.schedule)
        self.assertEqual(captured_output.getvalue().strip(), expected_output.strip())

if __name__ == '__main__':
    unittest.main()